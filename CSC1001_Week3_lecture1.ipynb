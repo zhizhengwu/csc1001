{
  "cells": [
    {
      "cell_type": "markdown",
      "metadata": {
        "colab_type": "text",
        "id": "view-in-github"
      },
      "source": [
        "<a href=\"https://colab.research.google.com/github/zhizhengwu/csc1001/blob/main/CSC1001_Week3_lecture1.ipynb\" target=\"_parent\"><img src=\"https://colab.research.google.com/assets/colab-badge.svg\" alt=\"Open In Colab\"/></a>"
      ]
    },
    {
      "cell_type": "markdown",
      "metadata": {
        "id": "RwL07ME-8rUD"
      },
      "source": [
        "# Week 3: Coding examples on flow control"
      ]
    },
    {
      "cell_type": "markdown",
      "metadata": {
        "id": "wkN8dENL9NNc"
      },
      "source": [
        "## Conditional flow"
      ]
    },
    {
      "cell_type": "code",
      "execution_count": 3,
      "metadata": {
        "colab": {
          "base_uri": "https://localhost:8080/"
        },
        "id": "iRwrvFaI8eJv",
        "outputId": "591858b0-e742-4617-ba71-23c589d581b8"
      },
      "outputs": [
        {
          "name": "stdout",
          "output_type": "stream",
          "text": [
            "True\n",
            "Height is: 1.75 Take a seat between row 3 and 10.\n",
            "finished\n"
          ]
        }
      ],
      "source": [
        "# an example of conditional flow\n",
        "\n",
        "height = float(input())\n",
        "\n",
        "if height == 1.75:\n",
        "  print(height == 1.75)\n",
        "\n",
        "if height > 1.75:\n",
        "  print(\"Height is:\", height, \"Take a seat in the last 10 rows.\")\n",
        "elif height > 1.6:\n",
        "  print(\"Height is:\", height, \"Take a seat between row 3 and 10.\")\n",
        "else:\n",
        "  print(\"Height is:\", height, \"Take a seat in the first 2 rows.\")\n",
        "\n",
        "print(\"finished\")\n",
        "\n"
      ]
    },
    {
      "cell_type": "markdown",
      "metadata": {
        "id": "tAoyqzR5G_K-"
      },
      "source": [
        "## Bool"
      ]
    },
    {
      "cell_type": "code",
      "execution_count": 15,
      "metadata": {
        "colab": {
          "base_uri": "https://localhost:8080/"
        },
        "id": "Gle-9TE18p-5",
        "outputId": "5d9903fa-314a-45a6-ca49-ad73bac00d74"
      },
      "outputs": [
        {
          "name": "stdout",
          "output_type": "stream",
          "text": [
            "False False False\n",
            "True True True\n",
            "False True\n",
            "False True True\n"
          ]
        }
      ],
      "source": [
        "\n",
        "x = 0; y = 0.0; z = 0 + 0j\n",
        "print(bool(x), bool(y), bool(z))\n",
        "\n",
        "x = -1; y = 1; z = 0 + 1j\n",
        "print(bool(x), bool(y), bool(z))\n",
        "\n",
        "x = \"\"; y = \"0\"\n",
        "print(bool(x), bool(y))\n",
        "\n",
        "x = []; y = [1]; z = [0]\n",
        "print(bool(x), bool(y), bool(z))"
      ]
    },
    {
      "cell_type": "markdown",
      "metadata": {
        "id": "xa-iOOIOi-tl"
      },
      "source": [
        "## Indentation"
      ]
    },
    {
      "cell_type": "code",
      "execution_count": 2,
      "metadata": {
        "colab": {
          "base_uri": "https://localhost:8080/"
        },
        "id": "Z-GFj1IUjBcv",
        "outputId": "9fe45222-5728-421d-f7b6-9dfa9eebd817"
      },
      "outputs": [
        {
          "name": "stdout",
          "output_type": "stream",
          "text": [
            "x is 5\n",
            "this is test 1\n",
            "this is test 2\n"
          ]
        }
      ],
      "source": [
        "x = 5\n",
        "\n",
        "if x == 5:\n",
        "    print('x is', x)\n",
        "\n",
        "    print('this is test 1')\n",
        "    # print('this is test 100')\n",
        "    print('this is test 2')"
      ]
    },
    {
      "cell_type": "markdown",
      "metadata": {
        "id": "Fw9l7jPQJwOs"
      },
      "source": [
        "## Logical operators"
      ]
    },
    {
      "cell_type": "code",
      "execution_count": 1,
      "metadata": {
        "colab": {
          "base_uri": "https://localhost:8080/"
        },
        "id": "ix5CJmyGHmYU",
        "outputId": "b05a9915-591a-44dd-a7e3-2857f58c492a"
      },
      "outputs": [
        {
          "name": "stdout",
          "output_type": "stream",
          "text": [
            "not True: False\n",
            "not False: True\n",
            "False and True: False\n",
            "False or True: True\n"
          ]
        }
      ],
      "source": [
        "print(\"not True:\", not True)\n",
        "print(\"not False:\", not False)\n",
        "print(\"False and True:\", False and True and True and True and True and True and True)\n",
        "print(\"False or True:\", False or True or False or False or False or False or False)\n"
      ]
    },
    {
      "cell_type": "code",
      "execution_count": 31,
      "metadata": {
        "colab": {
          "base_uri": "https://localhost:8080/"
        },
        "id": "Ddmhzqx3KRNA",
        "outputId": "f0d9fd2e-d43d-40c7-d9de-fd51a75342b4"
      },
      "outputs": [
        {
          "name": "stdout",
          "output_type": "stream",
          "text": [
            "20\n",
            "x is smaller than 75\n"
          ]
        }
      ],
      "source": [
        "\n",
        "x = int(input())\n",
        "\n",
        "if x > 50:\n",
        "  print(\"x is larger than 50\")\n",
        "elif x < 75:\n",
        "  print(\"x is smaller than 75\")\n",
        "elif x < 25:\n",
        "  print(\"x is smaller than 25\")\n",
        "\n",
        "#   if x < 75:\n",
        "#     print(\"x is smaller than 75 but larger than 50\")\n",
        "#   else:\n",
        "#     print(\"x is larger than 75\")\n",
        "# else:\n",
        "#   print(\"x is smaller\")"
      ]
    }
  ],
  "metadata": {
    "colab": {
      "authorship_tag": "ABX9TyPc8vf066sqci9ugrRaqj4v",
      "include_colab_link": true,
      "provenance": []
    },
    "kernelspec": {
      "display_name": "Python 3",
      "name": "python3"
    },
    "language_info": {
      "codemirror_mode": {
        "name": "ipython",
        "version": 3
      },
      "file_extension": ".py",
      "mimetype": "text/x-python",
      "name": "python",
      "nbconvert_exporter": "python",
      "pygments_lexer": "ipython3",
      "version": "3.12.3"
    }
  },
  "nbformat": 4,
  "nbformat_minor": 0
}
