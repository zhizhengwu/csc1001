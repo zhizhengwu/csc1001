{
  "nbformat": 4,
  "nbformat_minor": 0,
  "metadata": {
    "colab": {
      "provenance": [],
      "authorship_tag": "ABX9TyPSmTp9avgb2vqS/McpDzT6",
      "include_colab_link": true
    },
    "kernelspec": {
      "name": "python3",
      "display_name": "Python 3"
    },
    "language_info": {
      "name": "python"
    }
  },
  "cells": [
    {
      "cell_type": "markdown",
      "metadata": {
        "id": "view-in-github",
        "colab_type": "text"
      },
      "source": [
        "<a href=\"https://colab.research.google.com/github/zhizhengwu/csc1001/blob/main/Week3_lecture2.ipynb\" target=\"_parent\"><img src=\"https://colab.research.google.com/assets/colab-badge.svg\" alt=\"Open In Colab\"/></a>"
      ]
    },
    {
      "cell_type": "markdown",
      "source": [
        "# Week 3 Lecture 2"
      ],
      "metadata": {
        "id": "4XASTRCt4gjI"
      }
    },
    {
      "cell_type": "markdown",
      "source": [
        "## Try except"
      ],
      "metadata": {
        "id": "OFhtPl4g5JI_"
      }
    },
    {
      "cell_type": "code",
      "source": [
        "\n",
        "temp_str = \"hello world\"\n",
        "temp_str_int = \"1001\"\n",
        "\n",
        "try:\n",
        "  print(\"hello #1\")\n",
        "  print(\"hello #2\")\n",
        "  num = int(temp_str)\n",
        "except:\n",
        "  num = -1\n",
        "  print(\"hello #3\")\n",
        "print(num)\n",
        "print(\"hello #4\")\n",
        "\n",
        "# print((temp_str))\n",
        "# print(int(temp_str_int))"
      ],
      "metadata": {
        "colab": {
          "base_uri": "https://localhost:8080/"
        },
        "id": "Cm6nrd7q-o_-",
        "outputId": "8ee5d828-6179-4112-d7d2-eae6f964189b"
      },
      "execution_count": 13,
      "outputs": [
        {
          "output_type": "stream",
          "name": "stdout",
          "text": [
            "hello #1\n",
            "hello #2\n",
            "hello #3\n",
            "-1\n",
            "hello #4\n"
          ]
        }
      ]
    },
    {
      "cell_type": "code",
      "source": [
        "\n",
        "temp_num = input(\"input a number\")\n",
        "\n",
        "try:\n",
        "  num = int(temp_num)\n",
        "except:\n",
        "  num = None\n",
        "\n",
        "if num:\n",
        "  print(\"Nice work??\")\n",
        "else:\n",
        "  print(\"Invalid number\")"
      ],
      "metadata": {
        "colab": {
          "base_uri": "https://localhost:8080/"
        },
        "id": "O3gdouidBw9f",
        "outputId": "d9f2c95c-a63c-42a9-9528-d46232cf5d8b"
      },
      "execution_count": 15,
      "outputs": [
        {
          "output_type": "stream",
          "name": "stdout",
          "text": [
            "input a number-1\n",
            "Nice work??\n"
          ]
        }
      ]
    },
    {
      "cell_type": "code",
      "execution_count": 5,
      "metadata": {
        "colab": {
          "base_uri": "https://localhost:8080/"
        },
        "id": "G2oA1bpw4Tzm",
        "outputId": "55732bd2-db0f-4e1b-cc0a-4707e48e0277"
      },
      "outputs": [
        {
          "output_type": "stream",
          "name": "stdout",
          "text": [
            "An exception occurred\n"
          ]
        }
      ],
      "source": [
        "try:\n",
        "  print(x)\n",
        "except:\n",
        "  print(\"An exception occurred\")\n"
      ]
    },
    {
      "cell_type": "markdown",
      "source": [
        "## Loop"
      ],
      "metadata": {
        "id": "GS2XTF3N5ayr"
      }
    },
    {
      "cell_type": "code",
      "source": [
        "n = 5\n",
        "\n",
        "print(\"start\")\n",
        "# print(n)\n",
        "\n",
        "while n > 0:\n",
        "  n -= 1\n",
        "  print(n)\n",
        "\n",
        "print(\"finish\")"
      ],
      "metadata": {
        "colab": {
          "base_uri": "https://localhost:8080/"
        },
        "id": "gcuq21eU5Tw-",
        "outputId": "5c6ebaef-0e31-4063-f160-23ccae1b0a48"
      },
      "execution_count": 20,
      "outputs": [
        {
          "output_type": "stream",
          "name": "stdout",
          "text": [
            "start\n",
            "4\n",
            "3\n",
            "2\n",
            "1\n",
            "0\n",
            "finish\n"
          ]
        }
      ]
    },
    {
      "cell_type": "markdown",
      "source": [
        "## Infinite loop"
      ],
      "metadata": {
        "id": "MdsFYUPXGNVA"
      }
    },
    {
      "cell_type": "code",
      "source": [
        "n = 5\n",
        "\n",
        "print(\"start\")\n",
        "\n",
        "while n > 0 or 5: # or 5 False or 5 -> True . False or True\n",
        "  n -= 1\n",
        "  print(n)\n",
        "\n",
        "  if n == -5:\n",
        "    break\n",
        "\n",
        "# n -= 1\n",
        "\n",
        "print(\"finish\")"
      ],
      "metadata": {
        "colab": {
          "base_uri": "https://localhost:8080/"
        },
        "id": "6FGmt4k86BVm",
        "outputId": "032aa5eb-0977-4fde-bc4e-d84ede08e117"
      },
      "execution_count": 31,
      "outputs": [
        {
          "output_type": "stream",
          "name": "stdout",
          "text": [
            "start\n",
            "4\n",
            "3\n",
            "2\n",
            "1\n",
            "0\n",
            "-1\n",
            "-2\n",
            "-3\n",
            "-4\n",
            "-5\n",
            "finish\n"
          ]
        }
      ]
    },
    {
      "cell_type": "markdown",
      "source": [
        "## Continue"
      ],
      "metadata": {
        "id": "ZcEeAKZ0J8-z"
      }
    },
    {
      "cell_type": "code",
      "source": [
        "n = 10\n",
        "\n",
        "print(\"start\")\n",
        "\n",
        "while n > 0:\n",
        "  n -= 1\n",
        "\n",
        "  if n == 5:\n",
        "    continue\n",
        "\n",
        "  print(n)\n",
        "\n",
        "print(\"finish\")"
      ],
      "metadata": {
        "colab": {
          "base_uri": "https://localhost:8080/"
        },
        "id": "ktMp062jHlCt",
        "outputId": "7363ff4b-018e-433c-ddce-22c620de70bf"
      },
      "execution_count": 33,
      "outputs": [
        {
          "output_type": "stream",
          "name": "stdout",
          "text": [
            "start\n",
            "9\n",
            "8\n",
            "7\n",
            "6\n",
            "4\n",
            "3\n",
            "2\n",
            "1\n",
            "0\n",
            "finish\n"
          ]
        }
      ]
    },
    {
      "cell_type": "code",
      "source": [
        "n = 10\n",
        "\n",
        "print(\"start\")\n",
        "\n",
        "while n > 0:\n",
        "  if n == 5:\n",
        "    continue\n",
        "\n",
        "  print(n)\n",
        "  n -= 1\n",
        "\n",
        "print(\"finish\")"
      ],
      "metadata": {
        "colab": {
          "base_uri": "https://localhost:8080/",
          "height": 323
        },
        "id": "_UtbRdkwKUOl",
        "outputId": "c78a0b42-9653-4368-aa62-d3d9a7e6e4c0"
      },
      "execution_count": 34,
      "outputs": [
        {
          "output_type": "stream",
          "name": "stdout",
          "text": [
            "start\n",
            "10\n",
            "9\n",
            "8\n",
            "7\n",
            "6\n"
          ]
        },
        {
          "output_type": "error",
          "ename": "KeyboardInterrupt",
          "evalue": "",
          "traceback": [
            "\u001b[0;31m---------------------------------------------------------------------------\u001b[0m",
            "\u001b[0;31mKeyboardInterrupt\u001b[0m                         Traceback (most recent call last)",
            "\u001b[0;32m<ipython-input-34-3cb830d2ce8b>\u001b[0m in \u001b[0;36m<cell line: 5>\u001b[0;34m()\u001b[0m\n\u001b[1;32m      5\u001b[0m \u001b[0;32mwhile\u001b[0m \u001b[0mn\u001b[0m \u001b[0;34m>\u001b[0m \u001b[0;36m0\u001b[0m\u001b[0;34m:\u001b[0m\u001b[0;34m\u001b[0m\u001b[0;34m\u001b[0m\u001b[0m\n\u001b[1;32m      6\u001b[0m   \u001b[0;32mif\u001b[0m \u001b[0mn\u001b[0m \u001b[0;34m==\u001b[0m \u001b[0;36m5\u001b[0m\u001b[0;34m:\u001b[0m\u001b[0;34m\u001b[0m\u001b[0;34m\u001b[0m\u001b[0m\n\u001b[0;32m----> 7\u001b[0;31m     \u001b[0;32mcontinue\u001b[0m\u001b[0;34m\u001b[0m\u001b[0;34m\u001b[0m\u001b[0m\n\u001b[0m\u001b[1;32m      8\u001b[0m \u001b[0;34m\u001b[0m\u001b[0m\n\u001b[1;32m      9\u001b[0m   \u001b[0mprint\u001b[0m\u001b[0;34m(\u001b[0m\u001b[0mn\u001b[0m\u001b[0;34m)\u001b[0m\u001b[0;34m\u001b[0m\u001b[0;34m\u001b[0m\u001b[0m\n",
            "\u001b[0;31mKeyboardInterrupt\u001b[0m: "
          ]
        }
      ]
    },
    {
      "cell_type": "markdown",
      "source": [
        "## For loop"
      ],
      "metadata": {
        "id": "S0KdluG_Ln_5"
      }
    },
    {
      "cell_type": "code",
      "source": [
        "\n",
        "list_of_students = ['Cai Xunkun', 'Jay Chow', 'Tayler Swift', 'Donald Trump', 'Kamala Harris', 'Joe Biden']\n",
        "student_age = [18, 18, 18, 80, 60, 80]\n",
        "\n",
        "# for age in student_age:\n",
        "#   print(age)\n",
        "\n",
        "# for student_name in list_of_students:\n",
        "#   print(student_name)\n",
        "\n",
        "# for i in range(6): # 0 -> 5\n",
        "for i in [0, 1, 2, 3, 4, 5]:\n",
        "  print(i, list_of_students[i], student_age[i])\n",
        "\n",
        "for i, student_name in enumerate(list_of_students):\n",
        "  print(i, student_name)\n",
        "\n",
        "# i = 0\n",
        "# while i <= 5:\n",
        "#   print(i, list_of_students[i], student_age[i])\n",
        "#   i += 1\n"
      ],
      "metadata": {
        "colab": {
          "base_uri": "https://localhost:8080/"
        },
        "id": "aMQcdP8NK9Ie",
        "outputId": "24c03ccd-c4a4-4ec0-cf9e-abca9fac7907"
      },
      "execution_count": 45,
      "outputs": [
        {
          "output_type": "stream",
          "name": "stdout",
          "text": [
            "0 Cai Xunkun 18\n",
            "1 Jay Chow 18\n",
            "2 Tayler Swift 18\n",
            "3 Donald Trump 80\n",
            "4 Kamala Harris 60\n",
            "5 Joe Biden 80\n",
            "0 Cai Xunkun\n",
            "1 Jay Chow\n",
            "2 Tayler Swift\n",
            "3 Donald Trump\n",
            "4 Kamala Harris\n",
            "5 Joe Biden\n"
          ]
        }
      ]
    },
    {
      "cell_type": "markdown",
      "source": [
        "## Sum using for-loop"
      ],
      "metadata": {
        "id": "lmTtOvuMPCkl"
      }
    },
    {
      "cell_type": "code",
      "source": [
        "num_list = [17, 18, 18, 19, 20, 20, 21, 80, 60, 80]\n",
        "\n",
        "total_age = 0\n",
        "\n",
        "for num in num_list:\n",
        "  total_age += num # total_age = total_age + num\n",
        "\n",
        "print(\"total age: \", total_age)"
      ],
      "metadata": {
        "colab": {
          "base_uri": "https://localhost:8080/"
        },
        "id": "2in93GpgMpW2",
        "outputId": "e1d3f04e-c286-489d-ac3a-95f3a00809a5"
      },
      "execution_count": 46,
      "outputs": [
        {
          "output_type": "stream",
          "name": "stdout",
          "text": [
            "total age:  353\n"
          ]
        }
      ]
    },
    {
      "cell_type": "code",
      "source": [],
      "metadata": {
        "id": "I-7I38RkPdb4"
      },
      "execution_count": null,
      "outputs": []
    }
  ]
}