{
  "nbformat": 4,
  "nbformat_minor": 0,
  "metadata": {
    "colab": {
      "provenance": [],
      "authorship_tag": "ABX9TyNeYeZBMMelttLr59OhOfki",
      "include_colab_link": true
    },
    "kernelspec": {
      "name": "python3",
      "display_name": "Python 3"
    },
    "language_info": {
      "name": "python"
    }
  },
  "cells": [
    {
      "cell_type": "markdown",
      "metadata": {
        "id": "view-in-github",
        "colab_type": "text"
      },
      "source": [
        "<a href=\"https://colab.research.google.com/github/zhizhengwu/csc1001/blob/main/Week_6_Lecture_2.ipynb\" target=\"_parent\"><img src=\"https://colab.research.google.com/assets/colab-badge.svg\" alt=\"Open In Colab\"/></a>"
      ]
    },
    {
      "cell_type": "code",
      "execution_count": 11,
      "metadata": {
        "colab": {
          "base_uri": "https://localhost:8080/"
        },
        "id": "JGrFaHK01_xQ",
        "outputId": "03cd6ecf-10b7-45cc-ed44-2f7964c029af"
      },
      "outputs": [
        {
          "output_type": "stream",
          "name": "stdout",
          "text": [
            "Tayler\n",
            "88.88888888888889\n",
            "Tayler\n",
            "88.88888888888889\n"
          ]
        }
      ],
      "source": [
        "\n",
        "\n",
        "class Human:\n",
        "  def __init__(self, name, age, weight, height):\n",
        "    self.__name = name\n",
        "    self.__age = age\n",
        "    self.__weight = weight\n",
        "    self.__height = height / 100.\n",
        "\n",
        "  # def __init__(self):\n",
        "  #   self.__name = \"Tayler\"\n",
        "  #   self.__age = 18\n",
        "  #   self.__weight = 200\n",
        "  #   self.__height = 1.5\n",
        "\n",
        "  def get_BMI(self):\n",
        "\n",
        "    bmi = self.__weight / (self.__height ** 2)\n",
        "\n",
        "    return bmi\n",
        "\n",
        "  def get_name(self):\n",
        "\n",
        "    return self.__name\n",
        "\n",
        "# creating an instance (i.e. object)\n",
        "ppl1 = Human(\"Yifan\", age=0, weight=6, height=50)\n",
        "ppl2 = Human(\"Jay\", age=18, weight=72, height=180)\n",
        "\n",
        "# ppl1 = Human()\n",
        "# ppl2 = Human()\n",
        "\n",
        "print(ppl1.get_name())\n",
        "print(ppl1.get_BMI())\n",
        "\n",
        "print(ppl2.get_name())\n",
        "print(ppl2.get_BMI())\n"
      ]
    },
    {
      "cell_type": "code",
      "source": [
        "\n",
        "class A:\n",
        "  def __init__(self, i=0):\n",
        "    self.i = i\n",
        "\n",
        "  def print(self, i):\n",
        "    print(self.i, i)\n",
        "\n",
        "def main():\n",
        "  a1 = A()   # self.i -> 0\n",
        "  a2 = A(10) # self.i -> 10\n",
        "  a3 = A(15) # self.i -> 15\n",
        "  a4 = A(20) # self.i -> 20\n",
        "\n",
        "  a1.print(1) # 0 1\n",
        "  a2.print(2) # 10 2\n",
        "  a3.print(3) # 15 3\n",
        "  a4.print(4) # 20 4\n",
        "\n",
        "\n",
        "main()"
      ],
      "metadata": {
        "colab": {
          "base_uri": "https://localhost:8080/"
        },
        "id": "Soy9yTwNHYV2",
        "outputId": "78ba68c3-019d-451f-c747-c693d7be1785"
      },
      "execution_count": 18,
      "outputs": [
        {
          "output_type": "stream",
          "name": "stdout",
          "text": [
            "0 1\n",
            "10 2\n",
            "15 3\n",
            "20 4\n"
          ]
        }
      ]
    },
    {
      "cell_type": "markdown",
      "source": [
        "## Scope of variable"
      ],
      "metadata": {
        "id": "Bl2eE2MlZnFY"
      }
    },
    {
      "cell_type": "code",
      "source": [
        "class A:\n",
        "  def __init__(self, i=0):\n",
        "    self.i = i\n",
        "\n",
        "  def print(self, i):\n",
        "    print(self.i, i)\n",
        "\n",
        "def loopfun(n):\n",
        "  while n > 0:\n",
        "    a = A(n*10)\n",
        "    a.print(n)\n",
        "    n -= 1\n",
        "\n",
        "def main():\n",
        "  n = 5\n",
        "  loopfun(n)\n",
        "\n",
        "  print(n)\n",
        "\n",
        "main()\n"
      ],
      "metadata": {
        "colab": {
          "base_uri": "https://localhost:8080/"
        },
        "id": "cxmmiDo0SVC-",
        "outputId": "2951e21f-310a-42fe-8cbf-464d3d8d6173"
      },
      "execution_count": 21,
      "outputs": [
        {
          "output_type": "stream",
          "name": "stdout",
          "text": [
            "50 5\n",
            "40 4\n",
            "30 3\n",
            "20 2\n",
            "10 1\n",
            "5\n"
          ]
        }
      ]
    },
    {
      "cell_type": "code",
      "source": [],
      "metadata": {
        "id": "o6JPTV54Y6UC"
      },
      "execution_count": null,
      "outputs": []
    },
    {
      "cell_type": "markdown",
      "source": [
        "## Private data"
      ],
      "metadata": {
        "id": "VN4xhCvXahC3"
      }
    },
    {
      "cell_type": "code",
      "source": [
        "class Human:\n",
        "  def __init__(self, name, age, weight, height):\n",
        "    self.__name = name\n",
        "    self.name = name\n",
        "    self.__age = age\n",
        "    self.__weight = weight\n",
        "    self.__height = height / 100.\n",
        "\n",
        "  def get_BMI(self):\n",
        "\n",
        "    bmi = self.__weight / (self.__height ** 2)\n",
        "\n",
        "    return bmi\n",
        "\n",
        "  def get_name(self):\n",
        "\n",
        "    return self.__name\n",
        "\n",
        "ppl1 = Human(\"Yifan\", age=0, weight=6, height=50)\n",
        "ppl2 = Human(\"Jay\", age=18, weight=72, height=180)\n",
        "\n",
        "print(ppl1.get_name())\n",
        "print(ppl1.get_BMI())\n",
        "\n",
        "print(ppl2.name)\n",
        "print(ppl2.get_name())\n",
        "print(ppl2.__name)"
      ],
      "metadata": {
        "colab": {
          "base_uri": "https://localhost:8080/",
          "height": 245
        },
        "id": "g-rQyy5Jaiee",
        "outputId": "3e7e8f7b-96e0-4006-bf54-3ca69e273142"
      },
      "execution_count": 24,
      "outputs": [
        {
          "output_type": "stream",
          "name": "stdout",
          "text": [
            "Yifan\n",
            "24.0\n",
            "Jay\n",
            "Jay\n"
          ]
        },
        {
          "output_type": "error",
          "ename": "AttributeError",
          "evalue": "'Human' object has no attribute '__name'",
          "traceback": [
            "\u001b[0;31m---------------------------------------------------------------------------\u001b[0m",
            "\u001b[0;31mAttributeError\u001b[0m                            Traceback (most recent call last)",
            "\u001b[0;32m<ipython-input-24-e24364b4d763>\u001b[0m in \u001b[0;36m<cell line: 27>\u001b[0;34m()\u001b[0m\n\u001b[1;32m     25\u001b[0m \u001b[0mprint\u001b[0m\u001b[0;34m(\u001b[0m\u001b[0mppl2\u001b[0m\u001b[0;34m.\u001b[0m\u001b[0mname\u001b[0m\u001b[0;34m)\u001b[0m\u001b[0;34m\u001b[0m\u001b[0;34m\u001b[0m\u001b[0m\n\u001b[1;32m     26\u001b[0m \u001b[0mprint\u001b[0m\u001b[0;34m(\u001b[0m\u001b[0mppl2\u001b[0m\u001b[0;34m.\u001b[0m\u001b[0mget_name\u001b[0m\u001b[0;34m(\u001b[0m\u001b[0;34m)\u001b[0m\u001b[0;34m)\u001b[0m\u001b[0;34m\u001b[0m\u001b[0;34m\u001b[0m\u001b[0m\n\u001b[0;32m---> 27\u001b[0;31m \u001b[0mprint\u001b[0m\u001b[0;34m(\u001b[0m\u001b[0mppl2\u001b[0m\u001b[0;34m.\u001b[0m\u001b[0m__name\u001b[0m\u001b[0;34m)\u001b[0m\u001b[0;34m\u001b[0m\u001b[0;34m\u001b[0m\u001b[0m\n\u001b[0m",
            "\u001b[0;31mAttributeError\u001b[0m: 'Human' object has no attribute '__name'"
          ]
        }
      ]
    },
    {
      "cell_type": "code",
      "source": [],
      "metadata": {
        "id": "TwdWTmspat0w"
      },
      "execution_count": null,
      "outputs": []
    }
  ]
}