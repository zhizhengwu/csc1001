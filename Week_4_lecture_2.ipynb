{
  "nbformat": 4,
  "nbformat_minor": 0,
  "metadata": {
    "colab": {
      "provenance": [],
      "authorship_tag": "ABX9TyPzsV1exidX76IaZL9IB4Ke",
      "include_colab_link": true
    },
    "kernelspec": {
      "name": "python3",
      "display_name": "Python 3"
    },
    "language_info": {
      "name": "python"
    }
  },
  "cells": [
    {
      "cell_type": "markdown",
      "metadata": {
        "id": "view-in-github",
        "colab_type": "text"
      },
      "source": [
        "<a href=\"https://colab.research.google.com/github/zhizhengwu/csc1001/blob/main/Week_4_lecture_2.ipynb\" target=\"_parent\"><img src=\"https://colab.research.google.com/assets/colab-badge.svg\" alt=\"Open In Colab\"/></a>"
      ]
    },
    {
      "cell_type": "markdown",
      "source": [
        "# Week 4 Lecture 2"
      ],
      "metadata": {
        "id": "SU0ZPeQx1tRe"
      }
    },
    {
      "cell_type": "markdown",
      "source": [
        "## Return - None"
      ],
      "metadata": {
        "id": "hbBhDtTP3ujW"
      }
    },
    {
      "cell_type": "code",
      "execution_count": 10,
      "metadata": {
        "colab": {
          "base_uri": "https://localhost:8080/"
        },
        "id": "rl877pcy1qqz",
        "outputId": "3708e322-8098-427e-b07a-deadbef32e06"
      },
      "outputs": [
        {
          "output_type": "stream",
          "name": "stdout",
          "text": [
            "1\n",
            "2\n",
            "3\n",
            "None\n",
            "---------\n",
            "1\n",
            "2\n",
            "3\n",
            "r:  None\n"
          ]
        }
      ],
      "source": [
        "def func_b():\n",
        "    print(2)\n",
        "\n",
        "def func_a():\n",
        "    print(1)\n",
        "    func_b()\n",
        "    print(3)\n",
        "\n",
        "    # return None\n",
        "\n",
        "r=func_a()\n",
        "\n",
        "print(r)\n",
        "\n",
        "print('---------')\n",
        "\n",
        "def func_b():\n",
        "    print(2)\n",
        "\n",
        "def func_a():\n",
        "    print(1)\n",
        "    func_b()\n",
        "    print(3)\n",
        "\n",
        "    return None\n",
        "\n",
        "r=func_a()\n",
        "print(\"r: \", r)\n",
        "# print(\"s: \", s)\n",
        "# print(\"t: \", t)"
      ]
    },
    {
      "cell_type": "markdown",
      "source": [
        "## String"
      ],
      "metadata": {
        "id": "7gY3FR_P9NTY"
      }
    },
    {
      "cell_type": "code",
      "source": [
        "\n",
        "test_str = \"csc1001 students \"\n",
        "\n",
        "print(len(test_str))  # 16\n",
        "print(test_str[0])    # c\n",
        "print(test_str[7])    # ' '\n",
        "print(test_str[15])   # s\n",
        "print(test_str[16])   #\n",
        "print(test_str[1])   #\n",
        "print(test_str[1])   #"
      ],
      "metadata": {
        "colab": {
          "base_uri": "https://localhost:8080/"
        },
        "id": "xohIYcji30gL",
        "outputId": "3596c673-8f82-43fe-8c5f-b590084e15eb"
      },
      "execution_count": 5,
      "outputs": [
        {
          "output_type": "stream",
          "name": "stdout",
          "text": [
            "17\n",
            "c\n",
            " \n",
            "s\n",
            " \n",
            "s\n",
            "s\n"
          ]
        }
      ]
    },
    {
      "cell_type": "markdown",
      "source": [
        "## String - loop"
      ],
      "metadata": {
        "id": "UHXn1LxY91lN"
      }
    },
    {
      "cell_type": "code",
      "source": [
        "\n",
        "test_str = \"csc1001 students \"\n",
        "\n",
        "n = 0\n",
        "\n",
        "for s in test_str:\n",
        "  print(n, s)\n",
        "\n",
        "  n += 1\n",
        "\n",
        "n = 0\n",
        "while n < len(test_str):\n",
        "  print(n, test_str[n])\n",
        "  n += 1\n",
        "\n",
        "# print(n, test_str[n])\n",
        "\n"
      ],
      "metadata": {
        "colab": {
          "base_uri": "https://localhost:8080/"
        },
        "id": "Oz-w7y5s94uz",
        "outputId": "7d677650-860a-48e4-9573-ad65002ecbe8"
      },
      "execution_count": 18,
      "outputs": [
        {
          "output_type": "stream",
          "name": "stdout",
          "text": [
            "0 c\n",
            "1 s\n",
            "2 c\n",
            "3 1\n",
            "4 0\n",
            "5 0\n",
            "6 1\n",
            "7  \n",
            "8 s\n",
            "9 t\n",
            "10 u\n",
            "11 d\n",
            "12 e\n",
            "13 n\n",
            "14 t\n",
            "15 s\n",
            "16  \n",
            "0 c\n",
            "1 s\n",
            "2 c\n",
            "3 1\n",
            "4 0\n",
            "5 0\n",
            "6 1\n",
            "7  \n",
            "8 s\n",
            "9 t\n",
            "10 u\n",
            "11 d\n",
            "12 e\n",
            "13 n\n",
            "14 t\n",
            "15 s\n",
            "16  \n"
          ]
        }
      ]
    },
    {
      "cell_type": "markdown",
      "source": [
        "## String loop and counting"
      ],
      "metadata": {
        "id": "LchvBJLV91EE"
      }
    },
    {
      "cell_type": "code",
      "source": [
        "\n",
        "test_string = \"csc1001 students all get 0 in their final exam!\"\n",
        "\n",
        "count = 0\n",
        "other_count = 0\n",
        "for s in test_string:\n",
        "  if s == 'l':\n",
        "    count += 1\n",
        "  else:\n",
        "    other_count += 1\n",
        "\n",
        "print(\"Count of l: \", count)\n",
        "print(\"Other count: \", other_count)\n"
      ],
      "metadata": {
        "colab": {
          "base_uri": "https://localhost:8080/"
        },
        "id": "1V18fFHwF6i_",
        "outputId": "fb3abf11-85e2-4f12-b78c-7d39d164898b"
      },
      "execution_count": 3,
      "outputs": [
        {
          "output_type": "stream",
          "name": "stdout",
          "text": [
            "Count of l:  3\n",
            "Other count:  44\n"
          ]
        }
      ]
    },
    {
      "cell_type": "markdown",
      "source": [
        "## String - Slicing"
      ],
      "metadata": {
        "id": "q2_qPUakIMrj"
      }
    },
    {
      "cell_type": "code",
      "source": [
        "\n",
        "test_string = \"csc1001 students all get 0 in their final exam!\"\n",
        "\n",
        "print(test_string[0:5]) #csc10\n",
        "print(test_string[:5])  #csc10?\n",
        "\n",
        "print(test_string[0:-1]) #\n",
        "print(test_string[:]) #\n",
        "print(test_string[0:len(test_string)]) #\n",
        "\n",
        "print(test_string[10:15])  #udent\n"
      ],
      "metadata": {
        "colab": {
          "base_uri": "https://localhost:8080/"
        },
        "id": "HVXaA6YBGQQU",
        "outputId": "c402496a-2365-42d2-c080-497055927946"
      },
      "execution_count": 12,
      "outputs": [
        {
          "output_type": "stream",
          "name": "stdout",
          "text": [
            "csc10\n",
            "csc10\n",
            "csc1001 students all get 0 in their final exam\n",
            "csc1001 students all get 0 in their final exam!\n",
            "csc1001 students all get 0 in their final exam!\n",
            "udent\n"
          ]
        }
      ]
    },
    {
      "cell_type": "markdown",
      "source": [
        "## function - Return"
      ],
      "metadata": {
        "id": "A4yLwHlUKp0x"
      }
    },
    {
      "cell_type": "code",
      "source": [
        "\n",
        "def fun(x):\n",
        "\n",
        "  # x = 1\n",
        "  if x == 1:\n",
        "    return \"all students will get\"\n",
        "  elif x == 0:\n",
        "    return \"are you kidding?\"\n",
        "\n",
        "  return \" A\"\n",
        "\n",
        "print(fun(1))\n",
        "print(\"finished 1\")\n",
        "print(fun(0))\n",
        "print(\"finished 0\")\n",
        "print(fun(100))\n",
        "print(\"finished 100\")\n",
        "\n",
        "#0 all students will get A\n",
        "#1 all students will get\n",
        "#3 are you kidding?\n",
        "#4 are you kidding? A"
      ],
      "metadata": {
        "colab": {
          "base_uri": "https://localhost:8080/"
        },
        "id": "zM1lSp-9IkAK",
        "outputId": "be6529cb-2c21-496e-bc77-d04d1f70f602"
      },
      "execution_count": 15,
      "outputs": [
        {
          "output_type": "stream",
          "name": "stdout",
          "text": [
            "all students will get\n",
            "finished 1\n",
            "are you kidding?\n",
            "finished 0\n",
            " A\n",
            "finished 100\n"
          ]
        }
      ]
    },
    {
      "cell_type": "markdown",
      "source": [
        "## String - in"
      ],
      "metadata": {
        "id": "VwlsTOetMSJM"
      }
    },
    {
      "cell_type": "code",
      "source": [
        "test_string = \"csc1001 students all get 0 in their final exam!\"\n",
        "\n",
        "print('1001' in test_string)\n",
        "print('6137' not in test_string)\n",
        "print('6137' in test_string)"
      ],
      "metadata": {
        "colab": {
          "base_uri": "https://localhost:8080/"
        },
        "id": "g4xuqsrdLZf0",
        "outputId": "1cf9d354-fd8d-412f-e2db-d2725b17c823"
      },
      "execution_count": 19,
      "outputs": [
        {
          "output_type": "stream",
          "name": "stdout",
          "text": [
            "True\n",
            "True\n",
            "False\n"
          ]
        }
      ]
    },
    {
      "cell_type": "markdown",
      "source": [
        "## String - Find & lower & upper cases"
      ],
      "metadata": {
        "id": "OmOsw1d5NVzS"
      }
    },
    {
      "cell_type": "code",
      "source": [
        "\n",
        "test_string = \"CSC1001 Students All Get 0 in their FINAL exam!\"\n",
        "\n",
        "print(test_string.find('Get 0'))\n",
        "print(test_string.find('Get A'))\n",
        "print(test_string)\n",
        "test_string = test_string.lower()\n",
        "print(test_string)\n",
        "test_string = test_string.replace('get 0', 'get A')\n",
        "test_string = test_string.upper()\n",
        "print(test_string)\n",
        "\n",
        "print(test_string.find('get 0'))\n",
        "\n",
        "test_string = \"CSC1001 Students All Get 0 in their FINAL exam!\"\n",
        "\n",
        "print(test_string.find(' '))\n"
      ],
      "metadata": {
        "colab": {
          "base_uri": "https://localhost:8080/"
        },
        "id": "6w4TFaJwMXG-",
        "outputId": "5bd4df72-d5ab-4df7-8559-ce09b6fce6b7"
      },
      "execution_count": 29,
      "outputs": [
        {
          "output_type": "stream",
          "name": "stdout",
          "text": [
            "21\n",
            "-1\n",
            "CSC1001 Students All Get 0 in their FINAL exam!\n",
            "csc1001 students all get 0 in their final exam!\n",
            "CSC1001 STUDENTS ALL GET A IN THEIR FINAL EXAM!\n",
            "-1\n",
            "7\n"
          ]
        }
      ]
    },
    {
      "cell_type": "markdown",
      "source": [
        "## File read & write"
      ],
      "metadata": {
        "id": "O7qRv9MlQ6OB"
      }
    },
    {
      "cell_type": "code",
      "source": [
        "\n",
        "fp = open('test_0925.txt', 'w')\n",
        "\n",
        "print(fp)\n",
        "\n",
        "fp.write(\"CSC1001 all L1 students get A\")\n",
        "\n",
        "fp.close()\n",
        "\n",
        "\n",
        "fr = open('test_0925.txt', 'r')\n",
        "\n",
        "print(fr.readlines())\n",
        "\n",
        "fr.close()"
      ],
      "metadata": {
        "colab": {
          "base_uri": "https://localhost:8080/"
        },
        "id": "Tc3DMr42NmLo",
        "outputId": "e27bf9ac-c7ab-4929-d6a6-f92a426b3c06"
      },
      "execution_count": 32,
      "outputs": [
        {
          "output_type": "stream",
          "name": "stdout",
          "text": [
            "<_io.TextIOWrapper name='test_0925.txt' mode='w' encoding='UTF-8'>\n",
            "['CSC1001 all L1 students get A']\n"
          ]
        }
      ]
    },
    {
      "cell_type": "markdown",
      "source": [
        "## String - New line"
      ],
      "metadata": {
        "id": "M2k719InSE6B"
      }
    },
    {
      "cell_type": "code",
      "source": [
        "\n",
        "test_str1 = \"hello\\ncsc1001\\n\"\n",
        "test_str2 = \"L1 students got A??\"\n",
        "\n",
        "print(test_str1)\n",
        "print(len(test_str1))\n",
        "print(test_str2)"
      ],
      "metadata": {
        "colab": {
          "base_uri": "https://localhost:8080/"
        },
        "id": "jvrWYKfqRT2k",
        "outputId": "5d101147-27ef-4d79-9179-ad2c37dff4a0"
      },
      "execution_count": 35,
      "outputs": [
        {
          "output_type": "stream",
          "name": "stdout",
          "text": [
            "hello\n",
            "csc1001\n",
            "\n",
            "14\n",
            "L1 students got A??\n"
          ]
        }
      ]
    },
    {
      "cell_type": "code",
      "source": [],
      "metadata": {
        "id": "7A78XkcYSQ6u"
      },
      "execution_count": null,
      "outputs": []
    }
  ]
}