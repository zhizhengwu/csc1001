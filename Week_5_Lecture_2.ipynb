{
  "nbformat": 4,
  "nbformat_minor": 0,
  "metadata": {
    "colab": {
      "provenance": [],
      "authorship_tag": "ABX9TyM76sa/byLpHRpypiUQOVQW",
      "include_colab_link": true
    },
    "kernelspec": {
      "name": "python3",
      "display_name": "Python 3"
    },
    "language_info": {
      "name": "python"
    }
  },
  "cells": [
    {
      "cell_type": "markdown",
      "metadata": {
        "id": "view-in-github",
        "colab_type": "text"
      },
      "source": [
        "<a href=\"https://colab.research.google.com/github/zhizhengwu/csc1001/blob/main/Week_5_Lecture_2.ipynb\" target=\"_parent\"><img src=\"https://colab.research.google.com/assets/colab-badge.svg\" alt=\"Open In Colab\"/></a>"
      ]
    },
    {
      "cell_type": "markdown",
      "source": [
        "# Week 5 - Lecture 2"
      ],
      "metadata": {
        "id": "KukCcp3cEzUC"
      }
    },
    {
      "cell_type": "markdown",
      "source": [
        "## Split to list"
      ],
      "metadata": {
        "id": "xtIGUSgWE8ce"
      }
    },
    {
      "cell_type": "code",
      "execution_count": 4,
      "metadata": {
        "colab": {
          "base_uri": "https://localhost:8080/"
        },
        "id": "gfKdNi6pEwHT",
        "outputId": "d0a25823-6b92-443d-a809-8c3902f755e3"
      },
      "outputs": [
        {
          "output_type": "stream",
          "name": "stdout",
          "text": [
            "['this', 'is', 'a', 'long', 'test', 'with', 'white', 'space']\n",
            "['this', 'is', 'a', 'long', 'test', 'with', 'white', 'space']\n",
            "[' ', 'this', ' is a long        test with white space', ' ']\n"
          ]
        }
      ],
      "source": [
        "test_str1 = \"this is a long        test with white space\"\n",
        "test_str2 = \" this is a long        test with white space \"\n",
        "test_str3 = \" ,this, is a long        test with white space, \"\n",
        "\n",
        "lst1 = test_str1.split()\n",
        "lst2 = test_str2.split()\n",
        "lst3 = test_str3.split(',')\n",
        "\n",
        "print(lst1)\n",
        "print(lst2)\n",
        "print(lst3)"
      ]
    },
    {
      "cell_type": "markdown",
      "source": [
        "## Dict"
      ],
      "metadata": {
        "id": "ltuS8o3WNi6f"
      }
    },
    {
      "cell_type": "code",
      "source": [
        "\n",
        "stu_dict = dict()\n",
        "stu_dict = {}\n",
        "\n",
        "stu_dict['Cai Xukun'] = 30\n",
        "stu_dict['Trump'] = 80\n",
        "stu_dict['Biden'] = 78\n",
        "stu_dict['Xiaoming'] = 20\n",
        "\n",
        "print(stu_dict)\n",
        "\n",
        "stu_dict['Xiaoming'] = stu_dict['Xiaoming'] + 1\n",
        "stu_dict['Trump'] = stu_dict['Trump'] + 10\n",
        "\n",
        "print(stu_dict)\n",
        "\n",
        "print(stu_dict['Cai Xukun'])\n",
        "\n",
        "print(list(stu_dict))\n",
        "\n",
        "print('Jay Chow' in stu_dict)\n",
        "print('Cai Xukun' in stu_dict)"
      ],
      "metadata": {
        "colab": {
          "base_uri": "https://localhost:8080/"
        },
        "id": "LCIBKRaSFG-S",
        "outputId": "3bde702d-163d-4f4d-b363-969821184643"
      },
      "execution_count": 10,
      "outputs": [
        {
          "output_type": "stream",
          "name": "stdout",
          "text": [
            "{'Cai Xukun': 30, 'Trump': 80, 'Biden': 78, 'Xiaoming': 20}\n",
            "{'Cai Xukun': 30, 'Trump': 90, 'Biden': 78, 'Xiaoming': 21}\n",
            "30\n",
            "['Cai Xukun', 'Trump', 'Biden', 'Xiaoming']\n",
            "False\n",
            "True\n"
          ]
        }
      ]
    },
    {
      "cell_type": "markdown",
      "source": [
        "## Practice - counting with dict"
      ],
      "metadata": {
        "id": "IU7eMKxCSKac"
      }
    },
    {
      "cell_type": "code",
      "source": [
        "\n",
        "count_dict = {}\n",
        "\n",
        "while True:\n",
        "  in_word = input()\n",
        "  if in_word == '-1':\n",
        "    break\n",
        "  if in_word not in count_dict:\n",
        "    count_dict[in_word] = 0\n",
        "  count_dict[in_word] += 1\n",
        "\n",
        "print(count_dict)"
      ],
      "metadata": {
        "colab": {
          "base_uri": "https://localhost:8080/"
        },
        "id": "em4FU8jFN4tt",
        "outputId": "bf9e94f2-2971-4321-b518-2d1a1745bec3"
      },
      "execution_count": 14,
      "outputs": [
        {
          "output_type": "stream",
          "name": "stdout",
          "text": [
            "hello\n",
            "world\n",
            "hello\n",
            "there\n",
            "hello\n",
            "hey\n",
            "hi\n",
            "today\n",
            "01\n",
            "-1\n",
            "{'hello': 3, 'world': 1, 'there': 1, 'hey': 1, 'hi': 1, 'today': 1, '01': 1}\n"
          ]
        }
      ]
    },
    {
      "cell_type": "markdown",
      "source": [
        "## Retrieve elements from dict"
      ],
      "metadata": {
        "id": "wdjidgXAUjd9"
      }
    },
    {
      "cell_type": "code",
      "source": [
        "stu_dict = {}\n",
        "\n",
        "stu_dict['Cai Xukun'] = 30\n",
        "stu_dict['Trump'] = 80\n",
        "stu_dict['Biden'] = 78\n",
        "stu_dict['Xiaoming'] = 20\n",
        "\n",
        "print(stu_dict.keys())\n",
        "print(stu_dict.values())\n",
        "print(stu_dict.items())\n",
        "\n",
        "for key_name in stu_dict:\n",
        "  print(key_name, stu_dict[key_name])\n",
        "\n",
        "for key_name, value in stu_dict.items():\n",
        "  print(key_name, value)"
      ],
      "metadata": {
        "colab": {
          "base_uri": "https://localhost:8080/"
        },
        "id": "D1PYi1drSmhL",
        "outputId": "b8d887f3-e21d-403e-c496-2b61667520c6"
      },
      "execution_count": 19,
      "outputs": [
        {
          "output_type": "stream",
          "name": "stdout",
          "text": [
            "dict_keys(['Cai Xukun', 'Trump', 'Biden', 'Xiaoming'])\n",
            "dict_values([30, 80, 78, 20])\n",
            "dict_items([('Cai Xukun', 30), ('Trump', 80), ('Biden', 78), ('Xiaoming', 20)])\n",
            "Cai Xukun 30\n",
            "Trump 80\n",
            "Biden 78\n",
            "Xiaoming 20\n",
            "Cai Xukun 30\n",
            "Trump 80\n",
            "Biden 78\n",
            "Xiaoming 20\n"
          ]
        }
      ]
    },
    {
      "cell_type": "code",
      "source": [],
      "metadata": {
        "id": "r8z1zH_gUwfA"
      },
      "execution_count": null,
      "outputs": []
    }
  ]
}