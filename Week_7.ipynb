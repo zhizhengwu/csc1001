{
  "nbformat": 4,
  "nbformat_minor": 0,
  "metadata": {
    "colab": {
      "provenance": [],
      "authorship_tag": "ABX9TyMzV2e4NfQSlTnDaj8r4jFG",
      "include_colab_link": true
    },
    "kernelspec": {
      "name": "python3",
      "display_name": "Python 3"
    },
    "language_info": {
      "name": "python"
    }
  },
  "cells": [
    {
      "cell_type": "markdown",
      "metadata": {
        "id": "view-in-github",
        "colab_type": "text"
      },
      "source": [
        "<a href=\"https://colab.research.google.com/github/zhizhengwu/csc1001/blob/main/Week_7.ipynb\" target=\"_parent\"><img src=\"https://colab.research.google.com/assets/colab-badge.svg\" alt=\"Open In Colab\"/></a>"
      ]
    },
    {
      "cell_type": "markdown",
      "source": [
        "## object and variable scope"
      ],
      "metadata": {
        "id": "OVMkZU8B-ug0"
      }
    },
    {
      "cell_type": "code",
      "execution_count": null,
      "metadata": {
        "colab": {
          "base_uri": "https://localhost:8080/"
        },
        "id": "bysNTQDEEC7f",
        "outputId": "905f92b5-e1d9-4792-cd3b-84daeb1c9ff2"
      },
      "outputs": [
        {
          "output_type": "stream",
          "name": "stdout",
          "text": [
            "0: <__main__.Count object at 0x7c8ef0caa410>\n",
            "1: <__main__.Count object at 0x7c8ef0caa410>\n",
            "2: <__main__.Count object at 0x7c8ef0ca8250>\n",
            "<__main__.Count object at 0x7c8ef0caa410> 1\n"
          ]
        }
      ],
      "source": [
        "\n",
        "class Count:\n",
        "  def __init__(self, count=0):\n",
        "    self.count = count\n",
        "\n",
        "def m(c, n):\n",
        "  print(\"1:\", c)\n",
        "  c = Count(5)\n",
        "  print(\"2:\", c)\n",
        "  n = 3\n",
        "\n",
        "  return c\n",
        "\n",
        "def main():\n",
        "  c = Count()\n",
        "  n = 1\n",
        "  print(\"0:\", c)\n",
        "  m(c, n)\n",
        "  # c = m(c, n)\n",
        "\n",
        "  print(c, n) # a: 0, 1; b: 5, 3; c: 5, 1\n",
        "\n",
        "main()"
      ]
    },
    {
      "cell_type": "markdown",
      "source": [
        "## Class inheritance"
      ],
      "metadata": {
        "id": "iZmBHr9x-zrV"
      }
    },
    {
      "cell_type": "code",
      "source": [
        "\n",
        "class A:\n",
        "  def __init__(self, i=0):\n",
        "    self.i = i\n",
        "\n",
        "class B(A):\n",
        "  def __init__(self, j=0):\n",
        "    super().__init__()\n",
        "    self.j = j\n",
        "\n",
        "def main():\n",
        "  b = B(5)\n",
        "\n",
        "  # print(b.i)\n",
        "  print(b.j)\n",
        "\n",
        "main()"
      ],
      "metadata": {
        "colab": {
          "base_uri": "https://localhost:8080/"
        },
        "id": "QTkuH-xjFB1D",
        "outputId": "97787103-bd3e-4988-f097-892541ecb2b1"
      },
      "execution_count": null,
      "outputs": [
        {
          "output_type": "stream",
          "name": "stdout",
          "text": [
            "5\n"
          ]
        }
      ]
    },
    {
      "cell_type": "markdown",
      "source": [
        "## Class Overwritting"
      ],
      "metadata": {
        "id": "34UfwLEg-8WB"
      }
    },
    {
      "cell_type": "code",
      "source": [
        "class Ac:\n",
        "  def __init__(self, i=0):\n",
        "    self.i = i\n",
        "\n",
        "  def increase(self):\n",
        "    self.i += 1\n",
        "\n",
        "class Bc(Ac):\n",
        "  def __init__(self, j=0):\n",
        "    super().__init__(3) # self.i -> 3\n",
        "    self.j = j          # j -> 0\n",
        "\n",
        "  def increase(self):\n",
        "    self.j += 1         # i: 3 -> 4\n",
        "\n",
        "def main():\n",
        "  b = Bc()\n",
        "  b.increase()\n",
        "\n",
        "  # a = Ac()\n",
        "  # a.increase()\n",
        "\n",
        "  print(b.i) # 3\n",
        "  print(b.j) # 1\n",
        "\n",
        "  # print(a.i) #  100\n",
        "  # print(a.j) #\n",
        "\n",
        "main()"
      ],
      "metadata": {
        "id": "8ORtQbU7Kqr_",
        "colab": {
          "base_uri": "https://localhost:8080/"
        },
        "outputId": "a7273fb5-dce1-400b-c48b-10f4f41524e2"
      },
      "execution_count": 29,
      "outputs": [
        {
          "output_type": "stream",
          "name": "stdout",
          "text": [
            "3\n",
            "1\n"
          ]
        }
      ]
    },
    {
      "cell_type": "markdown",
      "source": [
        "## Overwriting object class"
      ],
      "metadata": {
        "id": "1UC1DZOnAarS"
      }
    },
    {
      "cell_type": "code",
      "source": [
        "class Ac:\n",
        "  def __init__(self, i=0):\n",
        "    self.i = i\n",
        "\n",
        "  def increase(self):\n",
        "    self.i += 1\n",
        "\n",
        "  def __str__(self):\n",
        "    return  \"The content of this object is: \" + str(self.i)\n",
        "\n",
        "a = Ac(10)\n",
        "print(a)"
      ],
      "metadata": {
        "colab": {
          "base_uri": "https://localhost:8080/"
        },
        "id": "OPvI9e7L_4JZ",
        "outputId": "261aa5e7-f032-420d-d7e4-58c40f4bb2c3"
      },
      "execution_count": 17,
      "outputs": [
        {
          "output_type": "stream",
          "name": "stdout",
          "text": [
            "The content of this object is: 10\n"
          ]
        }
      ]
    },
    {
      "cell_type": "code",
      "source": [
        "class A:\n",
        "  def __new__(self):\n",
        "    self.__init__(self)\n",
        "    print(\"A's __new_() invoked\")\n",
        "\n",
        "  def __init__(self):\n",
        "    print(\"A's __init__() invoked\")\n",
        "\n",
        "class B(A):\n",
        "  def __new__(self):\n",
        "    self.__init__(self)\n",
        "    print(\"B's __new__() invoked\")\n",
        "\n",
        "  def __init__(self):\n",
        "    # super().__init__(self)\n",
        "    print(\"B's __init__() invoked\")\n",
        "\n",
        "def main():\n",
        "  b = B()\n",
        "  a = A()\n",
        "\n",
        "main()\n",
        "\n",
        "# A's __init__() invoked\n",
        "# B's __init__() invoked\n",
        "# B's __new__() invoked\n",
        "# A's __init__() invoked\n",
        "# A's __new_() invoked\n"
      ],
      "metadata": {
        "colab": {
          "base_uri": "https://localhost:8080/"
        },
        "id": "BCUcH0gRAvJ_",
        "outputId": "e42fb656-adb8-4adc-d510-30d5bd878ac1"
      },
      "execution_count": 22,
      "outputs": [
        {
          "output_type": "stream",
          "name": "stdout",
          "text": [
            "B's __init__() invoked\n",
            "B's __new__() invoked\n",
            "A's __init__() invoked\n",
            "A's __new_() invoked\n"
          ]
        }
      ]
    },
    {
      "cell_type": "markdown",
      "source": [
        "## Dynamic binding"
      ],
      "metadata": {
        "id": "DDw7Bzv8E3a9"
      }
    },
    {
      "cell_type": "code",
      "source": [
        "class C1: #Kangxi\n",
        "  def __init__(self):\n",
        "    self.f = 1\n",
        "\n",
        "  def output(self):\n",
        "    print(\"In C1, the f is: \", self.f)\n",
        "\n",
        "class C2(C1): #Yongzheng\n",
        "  def __init__(self):\n",
        "    self.f = 2\n",
        "\n",
        "  def output(self):\n",
        "    print(\"In C2, the f is: \", self.f)\n",
        "\n",
        "class C3(C2): #Qianlong\n",
        "  def __init__(self):\n",
        "    self.f = 3\n",
        "\n",
        "class C4(C3): #Jiaqing\n",
        "  def __init__(self):\n",
        "    self.f = 4\n",
        "\n",
        "a = C4()\n",
        "print(a.f)    # 4\n",
        "a.output()    # In C2, the f is: 4  # or 2"
      ],
      "metadata": {
        "colab": {
          "base_uri": "https://localhost:8080/"
        },
        "id": "FVodhPqMBfpI",
        "outputId": "5bd9b2cd-10f0-4b7f-fdcd-6d93bb86a150"
      },
      "execution_count": 31,
      "outputs": [
        {
          "output_type": "stream",
          "name": "stdout",
          "text": [
            "4\n",
            "In C2, the f is:  4\n"
          ]
        }
      ]
    },
    {
      "cell_type": "code",
      "source": [
        "\n",
        "class Person:\n",
        "  def getInfo(self):\n",
        "    return \"Person\"\n",
        "\n",
        "  def printPerson(self):\n",
        "    print(self.getInfo())\n",
        "\n",
        "class Student(Person):\n",
        "  def getInfo(self):\n",
        "    return \"Student\"\n",
        "\n",
        "p = Person()\n",
        "s = Student()\n",
        "\n",
        "p.printPerson()     # Person\n",
        "s.printPerson()     # Student"
      ],
      "metadata": {
        "colab": {
          "base_uri": "https://localhost:8080/"
        },
        "id": "9qRBI-eNGFN4",
        "outputId": "d7a28d1a-ab1d-414d-ab62-9bca906da739"
      },
      "execution_count": 32,
      "outputs": [
        {
          "output_type": "stream",
          "name": "stdout",
          "text": [
            "Person\n",
            "Student\n"
          ]
        }
      ]
    },
    {
      "cell_type": "code",
      "source": [
        "class Person:\n",
        "  def __getInfo(self):\n",
        "    return \"Person\"\n",
        "\n",
        "  def printPerson(self):\n",
        "    print(self.__getInfo())\n",
        "\n",
        "class Student(Person):\n",
        "  def __getInfo(self):\n",
        "    return \"Student\"\n",
        "\n",
        "p = Person()\n",
        "s = Student()\n",
        "\n",
        "p.printPerson()\n",
        "s.printPerson()\n",
        "print(p.printPerson)\n",
        "print(s.printPerson)"
      ],
      "metadata": {
        "colab": {
          "base_uri": "https://localhost:8080/"
        },
        "id": "U5Q3xclxLTmr",
        "outputId": "8f4be27f-6b89-4cb1-a7b7-ea157c725219"
      },
      "execution_count": 34,
      "outputs": [
        {
          "output_type": "stream",
          "name": "stdout",
          "text": [
            "Person\n",
            "Person\n",
            "<bound method Person.printPerson of <__main__.Person object at 0x7936b08f10c0>>\n",
            "<bound method Person.printPerson of <__main__.Student object at 0x7936b08f1030>>\n"
          ]
        }
      ]
    },
    {
      "cell_type": "code",
      "source": [],
      "metadata": {
        "id": "pIUGYEtyLqo_"
      },
      "execution_count": null,
      "outputs": []
    }
  ]
}