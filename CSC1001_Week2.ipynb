{
  "cells": [
    {
      "cell_type": "markdown",
      "metadata": {
        "colab_type": "text",
        "id": "view-in-github"
      },
      "source": [
        "<a href=\"https://colab.research.google.com/github/zhizhengwu/csc1001/blob/main/CSC1001_Week2.ipynb\" target=\"_parent\"><img src=\"https://colab.research.google.com/assets/colab-badge.svg\" alt=\"Open In Colab\"/></a>"
      ]
    },
    {
      "cell_type": "markdown",
      "metadata": {
        "id": "m6PJvL3D3lHP"
      },
      "source": [
        "# In classroom coding"
      ]
    },
    {
      "cell_type": "markdown",
      "metadata": {
        "id": "htIw6_Zc8OJ4"
      },
      "source": [
        "## Case sensitive example"
      ]
    },
    {
      "cell_type": "code",
      "execution_count": null,
      "metadata": {
        "colab": {
          "base_uri": "https://localhost:8080/"
        },
        "id": "z4JZvcWr3o5m",
        "outputId": "59c6ecd0-8006-4b62-ef0e-3de9e0b91df2"
      },
      "outputs": [
        {
          "name": "stdout",
          "output_type": "stream",
          "text": [
            "CSC1001_L1\n",
            "CSC3160\n",
            "CSC3160 or CSC1001 or CSC3100\n"
          ]
        }
      ],
      "source": [
        "cuhk_best_lecture = \"CSC1001_L1\"\n",
        "\n",
        "Cuhk_Best_Lecture = \"CSC3160\"\n",
        "\n",
        "CUHK_Best_Lecture = \"CSC3160 or CSC1001 or CSC3100\"\n",
        "\n",
        "print(cuhk_best_lecture)\n",
        "print(Cuhk_Best_Lecture)\n",
        "print(CUHK_Best_Lecture)\n"
      ]
    },
    {
      "cell_type": "markdown",
      "metadata": {
        "id": "tB6jydJw-3Xf"
      },
      "source": [
        "## Asignment example"
      ]
    },
    {
      "cell_type": "code",
      "execution_count": 1,
      "metadata": {
        "colab": {
          "base_uri": "https://localhost:8080/"
        },
        "id": "pvF-l6IY-5RJ",
        "outputId": "ff19fa03-3412-4dd4-c4be-f046dd7b2f65"
      },
      "outputs": [
        {
          "name": "stdout",
          "output_type": "stream",
          "text": [
            "142.20000000000002\n",
            "False\n",
            "assignment 1: False False False False\n",
            "assignment 2: ('A', 'A-', 'B+', 'A') ('A', 'A-', 'B+', 'A') ('A', 'A-', 'B+', 'A') ('A', 'A-', 'B+', 'A')\n",
            "assignment 3: w - A ,x - A- ,y - B+ ,z - A\n",
            "assignment 4: w - A ,x - A- ,y - B+ ,z - A\n"
          ]
        }
      ],
      "source": [
        "\n",
        "attendance_of_today = 158 * 0.9\n",
        "\n",
        "attendance_of_today_2 = (158 * 0.9 == 142)\n",
        "\n",
        "print(attendance_of_today)\n",
        "print(attendance_of_today_2)\n",
        "\n",
        "w = x = y = z = 158 * 0.9 == 142\n",
        "print(\"assignment 1:\", w, x, y, z)\n",
        "\n",
        "w = x = y = z = ('A', 'A-', 'B+', 'A')\n",
        "print(\"assignment 2:\", w, x, y, z)\n",
        "\n",
        "(w, x, y, z) = ('A', 'A-', 'B+', 'A')\n",
        "print(\"assignment 3:\", \"w -\", w, \",x -\", x, \",y -\", y, \",z -\", z)\n",
        "\n",
        "w, x, y, z = 'A', 'A-', 'B+', 'A'\n",
        "print(\"assignment 4:\", \"w -\", w, \",x -\", x, \",y -\", y, \",z -\", z)\n"
      ]
    },
    {
      "cell_type": "markdown",
      "metadata": {
        "id": "dMkgjp9bBPLp"
      },
      "source": [
        "## simultanous assignment"
      ]
    },
    {
      "cell_type": "code",
      "execution_count": null,
      "metadata": {
        "colab": {
          "base_uri": "https://localhost:8080/"
        },
        "id": "LMoZK3RiBWa5",
        "outputId": "c95509e0-ea36-42b7-ce58-d406de0336d7"
      },
      "outputs": [
        {
          "name": "stdout",
          "output_type": "stream",
          "text": [
            "99 19\n",
            "19 99\n",
            "99 19\n"
          ]
        }
      ],
      "source": [
        "\n",
        "x, y = 99, 19\n",
        "print(x, y)\n",
        "\n",
        "x, y = y, x\n",
        "print(x, y)\n",
        "\n",
        "temp = x\n",
        "x = y\n",
        "y = temp\n",
        "print(x, y)\n",
        "\n"
      ]
    },
    {
      "cell_type": "markdown",
      "metadata": {
        "id": "WTa1ccwtCb1H"
      },
      "source": [
        "## order of operators"
      ]
    },
    {
      "cell_type": "code",
      "execution_count": null,
      "metadata": {
        "colab": {
          "base_uri": "https://localhost:8080/"
        },
        "id": "MljyQeYnCe1t",
        "outputId": "232f063a-6c5b-4f8e-f393-0e2d096cf697"
      },
      "outputs": [
        {
          "name": "stdout",
          "output_type": "stream",
          "text": [
            "2.1999999999999993\n",
            "4.199999999999999\n"
          ]
        }
      ],
      "source": [
        "x = 1. + 2. * 3. - 4. / 5. * 6.\n",
        "# value 1: 6 - ( 3 * 3 - 4 -> 5 / 5 -> 1 * 6 -> 6)\n",
        "# value 2: 1 + 6 - 4.8 -> 2.2\n",
        "\n",
        "print(x)\n",
        "\n",
        "x = (1 + 2) * 3 - 4. / 5. * 6\n",
        "print(x)\n"
      ]
    },
    {
      "cell_type": "markdown",
      "metadata": {
        "id": "ySvTp847cIHe"
      },
      "source": [
        "# Example of type and type conversion"
      ]
    },
    {
      "cell_type": "code",
      "execution_count": 2,
      "metadata": {
        "colab": {
          "base_uri": "https://localhost:8080/"
        },
        "id": "pjhwhk0ycL6R",
        "outputId": "e1b6525c-8ccd-41c3-dda4-5d7b66cf422f"
      },
      "outputs": [
        {
          "name": "stdout",
          "output_type": "stream",
          "text": [
            "158138\n",
            "x type: <class 'int'> with value: 158138\n",
            "158138.0\n",
            "x type: <class 'float'> with value: 158138.0\n",
            "f type: <class 'float'> with value: 158138.0\n",
            "s type: <class 'numpy.float64'> with value: 158138.0\n",
            "i type: <class 'int'> with value: 158138\n"
          ]
        }
      ],
      "source": [
        "import numpy as np\n",
        "\n",
        "x = 1001 * 158 - 20\n",
        "print(x)\n",
        "print(\"x type:\", type(x), \"with value:\", x)\n",
        "\n",
        "x = 1001. * 158 - 20\n",
        "print(x)\n",
        "print(\"x type:\", type(x), \"with value:\", x)\n",
        "\n",
        "f = float(x)\n",
        "print(\"f type:\", type(f), \"with value:\", f)\n",
        "\n",
        "s = np.double(x)\n",
        "print(\"s type:\", type(s), \"with value:\", s)\n",
        "\n",
        "i = int(s)\n",
        "print(\"i type:\", type(i), \"with value:\", i)"
      ]
    },
    {
      "cell_type": "code",
      "execution_count": null,
      "metadata": {
        "colab": {
          "base_uri": "https://localhost:8080/",
          "height": 228
        },
        "id": "Rs_TGE5uJ99Q",
        "outputId": "a4465490-1b91-435e-b03b-e00c8cdb8b7b"
      },
      "outputs": [
        {
          "name": "stdout",
          "output_type": "stream",
          "text": [
            "3000 <class 'int'>\n",
            "10002000csc <class 'str'>\n"
          ]
        },
        {
          "ename": "ValueError",
          "evalue": "invalid literal for int() with base 10: '10002000csc'",
          "output_type": "error",
          "traceback": [
            "\u001b[0;31m---------------------------------------------------------------------------\u001b[0m",
            "\u001b[0;31mValueError\u001b[0m                                Traceback (most recent call last)",
            "\u001b[0;32m<ipython-input-36-e8f8f02e7f8e>\u001b[0m in \u001b[0;36m<cell line: 8>\u001b[0;34m()\u001b[0m\n\u001b[1;32m      6\u001b[0m \u001b[0mprint\u001b[0m\u001b[0;34m(\u001b[0m\u001b[0my\u001b[0m\u001b[0;34m,\u001b[0m \u001b[0mtype\u001b[0m\u001b[0;34m(\u001b[0m\u001b[0my\u001b[0m\u001b[0;34m)\u001b[0m\u001b[0;34m)\u001b[0m\u001b[0;34m\u001b[0m\u001b[0;34m\u001b[0m\u001b[0m\n\u001b[1;32m      7\u001b[0m \u001b[0;34m\u001b[0m\u001b[0m\n\u001b[0;32m----> 8\u001b[0;31m \u001b[0mz\u001b[0m \u001b[0;34m=\u001b[0m \u001b[0mint\u001b[0m\u001b[0;34m(\u001b[0m\u001b[0my\u001b[0m\u001b[0;34m)\u001b[0m\u001b[0;34m\u001b[0m\u001b[0;34m\u001b[0m\u001b[0m\n\u001b[0m\u001b[1;32m      9\u001b[0m \u001b[0mprint\u001b[0m\u001b[0;34m(\u001b[0m\u001b[0mz\u001b[0m\u001b[0;34m)\u001b[0m\u001b[0;34m\u001b[0m\u001b[0;34m\u001b[0m\u001b[0m\n",
            "\u001b[0;31mValueError\u001b[0m: invalid literal for int() with base 10: '10002000csc'"
          ]
        }
      ],
      "source": [
        " x = 1000 + 2000\n",
        "\n",
        " y = \"1000\" + \"2000\" + \"csc\"\n",
        "\n",
        " print(x, type(x))\n",
        " print(y, type(y))\n",
        "\n",
        " z = int(y)\n",
        " print(z)\n"
      ]
    },
    {
      "cell_type": "markdown",
      "metadata": {
        "id": "TKn6iBwFEmBI"
      },
      "source": [
        "## operators"
      ]
    },
    {
      "cell_type": "code",
      "execution_count": null,
      "metadata": {
        "colab": {
          "base_uri": "https://localhost:8080/"
        },
        "id": "Wl1mk4YpEoJm",
        "outputId": "b7c87737-c563-4331-b977-73cf87b1ca6b"
      },
      "outputs": [
        {
          "name": "stdout",
          "output_type": "stream",
          "text": [
            "16\n",
            "1\n"
          ]
        }
      ],
      "source": [
        "x = 2 ** 4 # 2^4\n",
        "y = 9 % 2 # mod\n",
        "\n",
        "print(x)\n",
        "print(y)"
      ]
    },
    {
      "cell_type": "markdown",
      "metadata": {
        "id": "6FHCW6sZF2yh"
      },
      "source": [
        "## floor"
      ]
    },
    {
      "cell_type": "code",
      "execution_count": null,
      "metadata": {
        "colab": {
          "base_uri": "https://localhost:8080/"
        },
        "id": "uTxMSY2CF5Zf",
        "outputId": "aa4ef3f4-6f14-4cc0-fc62-02322210238c"
      },
      "outputs": [
        {
          "name": "stdout",
          "output_type": "stream",
          "text": [
            "1.145\n",
            "1.0\n",
            "1.0\n",
            "2.0\n",
            "(4, 17)\n",
            "(0, 60)\n"
          ]
        }
      ],
      "source": [
        "import numpy as np\n",
        "\n",
        "x = 2.29 / 2\n",
        "y = 2.29 // 2\n",
        "y2 = np.floor(x)\n",
        "z = np.floor(2.29)\n",
        "\n",
        "print(x)\n",
        "print(y)\n",
        "print(y2)\n",
        "print(z)\n",
        "\n",
        "time = 257\n",
        "sec_per_min = 60\n",
        "print(divmod(time, sec_per_min))\n",
        "print(divmod(sec_per_min, time))\n"
      ]
    },
    {
      "cell_type": "markdown",
      "metadata": {
        "id": "uJXAj9NWHrso"
      },
      "source": [
        "## augmented assignment"
      ]
    },
    {
      "cell_type": "code",
      "execution_count": null,
      "metadata": {
        "colab": {
          "base_uri": "https://localhost:8080/"
        },
        "id": "v80KUQ-DHt3D",
        "outputId": "10755ddc-c821-415d-ac75-06644fcf70c0"
      },
      "outputs": [
        {
          "name": "stdout",
          "output_type": "stream",
          "text": [
            "7\n",
            "5\n",
            "7\n",
            "14\n",
            "7.0\n"
          ]
        }
      ],
      "source": [
        "x = 9 - 2\n",
        "print(x) # 7\n",
        "\n",
        "x -= 2\n",
        "print(x) # 5\n",
        "\n",
        "x += 2\n",
        "print(x) # 7\n",
        "\n",
        "x *= 2\n",
        "print(x) # 14\n",
        "\n",
        "x /= 2\n",
        "print(x) # 7\n"
      ]
    },
    {
      "cell_type": "markdown",
      "metadata": {
        "id": "2ZSPEhBxb_3Y"
      },
      "source": [
        "# Example of using input()"
      ]
    },
    {
      "cell_type": "code",
      "execution_count": 5,
      "metadata": {
        "colab": {
          "base_uri": "https://localhost:8080/"
        },
        "id": "BiCXtBA8amFB",
        "outputId": "03e9741f-8db6-4c67-a34c-cddc0f5196a3"
      },
      "outputs": [
        {
          "name": "stdout",
          "output_type": "stream",
          "text": [
            "Provide a input: \n",
            "The input is: students from csc1001\n"
          ]
        }
      ],
      "source": [
        "'''\n",
        "CSC1001 students are awesome\n",
        "this is an example for input\n",
        "'''\n",
        "print(\"Provide a input: \")\n",
        "\n",
        "x = input()\n",
        "\n",
        "print(\"The input is:\", x)"
      ]
    },
    {
      "cell_type": "markdown",
      "metadata": {
        "id": "Y2jxMeAoLhlT"
      },
      "source": [
        "## string operators"
      ]
    },
    {
      "cell_type": "code",
      "execution_count": null,
      "metadata": {
        "colab": {
          "base_uri": "https://localhost:8080/"
        },
        "id": "kIub5CyULjjr",
        "outputId": "6bfeb8e3-f5c6-43b7-f293-ca36e500160c"
      },
      "outputs": [
        {
          "name": "stdout",
          "output_type": "stream",
          "text": [
            "csc1001\n",
            "csc1001csc1001csc1001\n"
          ]
        }
      ],
      "source": [
        "s = \"csc\" + \"1001\"\n",
        "ss = s * 3\n",
        "\n",
        "print(s)\n",
        "print(ss)\n"
      ]
    },
    {
      "cell_type": "code",
      "execution_count": null,
      "metadata": {
        "colab": {
          "base_uri": "https://localhost:8080/"
        },
        "id": "sChZS-leLt2z",
        "outputId": "4a523df4-6fe5-428e-91ec-16009a70a538"
      },
      "outputs": [
        {
          "name": "stdout",
          "output_type": "stream",
          "text": [
            "1\n",
            "-1\n",
            "1\n",
            "-1\n"
          ]
        }
      ],
      "source": [
        "x = int(1.2)\n",
        "print(x)\n",
        "\n",
        "x = int(-1.2)\n",
        "print(x)\n",
        "\n",
        "\n",
        "x = int(1.8)\n",
        "print(x)\n",
        "\n",
        "x = int(-1.8)\n",
        "print(x)"
      ]
    }
  ],
  "metadata": {
    "colab": {
      "authorship_tag": "ABX9TyNRGoXJjArE+OPMrpU/lsjX",
      "include_colab_link": true,
      "provenance": []
    },
    "kernelspec": {
      "display_name": "Python 3",
      "name": "python3"
    },
    "language_info": {
      "codemirror_mode": {
        "name": "ipython",
        "version": 3
      },
      "file_extension": ".py",
      "mimetype": "text/x-python",
      "name": "python",
      "nbconvert_exporter": "python",
      "pygments_lexer": "ipython3",
      "version": "3.12.3"
    }
  },
  "nbformat": 4,
  "nbformat_minor": 0
}
