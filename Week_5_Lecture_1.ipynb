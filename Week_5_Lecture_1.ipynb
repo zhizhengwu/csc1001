{
  "nbformat": 4,
  "nbformat_minor": 0,
  "metadata": {
    "colab": {
      "provenance": [],
      "authorship_tag": "ABX9TyPnmWFT7xs4oqP++iYPAhGg",
      "include_colab_link": true
    },
    "kernelspec": {
      "name": "python3",
      "display_name": "Python 3"
    },
    "language_info": {
      "name": "python"
    }
  },
  "cells": [
    {
      "cell_type": "markdown",
      "metadata": {
        "id": "view-in-github",
        "colab_type": "text"
      },
      "source": [
        "<a href=\"https://colab.research.google.com/github/zhizhengwu/csc1001/blob/main/Week_5_Lecture_1.ipynb\" target=\"_parent\"><img src=\"https://colab.research.google.com/assets/colab-badge.svg\" alt=\"Open In Colab\"/></a>"
      ]
    },
    {
      "cell_type": "markdown",
      "source": [
        "# Week 5 Lecture 1"
      ],
      "metadata": {
        "id": "lYSFL4o-pas1"
      }
    },
    {
      "cell_type": "markdown",
      "source": [
        "## Handling file"
      ],
      "metadata": {
        "id": "vUOpBNR4prlc"
      }
    },
    {
      "cell_type": "code",
      "execution_count": 19,
      "metadata": {
        "colab": {
          "base_uri": "https://localhost:8080/"
        },
        "id": "w2hyc4AUpXkt",
        "outputId": "a982ffe5-46d2-43f7-c9fb-d4291430c581"
      },
      "outputs": [
        {
          "output_type": "stream",
          "name": "stdout",
          "text": [
            "Xiaoming A\n",
            "Xukun Cai F\n",
            "\n",
            "a new example\n",
            "\n",
            "csc1001 grading results\n",
            "Sam Altman A-\n",
            "Elon Musk A\n",
            "Donald Trump B+\n",
            "Joe Biden B+\n",
            "Xiaoming A\n",
            "Xukun Cai F\n",
            "\n"
          ]
        }
      ],
      "source": [
        "# a file named \"csc1001\", will be opened with the writing mode.\n",
        "# If no such a file, it will create a file with this name\n",
        "# wt - writing in text mode\n",
        "# wb - writing in binary mode\n",
        "fp = open('csc1001.txt', 'w')\n",
        "\n",
        "# write to the file\n",
        "fp.write(\"csc1001 grading results\\n\")\n",
        "fp.write(\"Sam Altman A-\\n\")\n",
        "fp.write(\"Elon Musk A\\n\")\n",
        "fp.write(\"Donald Trump B+\\n\")\n",
        "fp.write(\"Joe Biden B+\\n\")\n",
        "fp.write(\"Xiaoming A\\n\")\n",
        "fp.write(\"Xukun Cai F\\n\")\n",
        "\n",
        "# close the file handler\n",
        "fp.close()\n",
        "\n",
        "\n",
        "# a file named \"csc1001\", will be opened with the reading mode.\n",
        "file = open('csc1001.txt', 'r')\n",
        "\n",
        "# This will print every line one by one in the file\n",
        "for each in file:\n",
        "    each = each.strip()\n",
        "    # print(each, each.startswith('X'))\n",
        "    if each.startswith('X'): # == True:\n",
        "      print (each)\n",
        "\n",
        "file.close()\n",
        "\n",
        "print(\"\\na new example\\n\")\n",
        "\n",
        "fp = open('csc1001.txt', 'r')\n",
        "lines = fp.read()\n",
        "print(lines)\n",
        "fp.close()"
      ]
    },
    {
      "cell_type": "markdown",
      "source": [
        "## List Length"
      ],
      "metadata": {
        "id": "-TsQbfCe7UU9"
      }
    },
    {
      "cell_type": "code",
      "source": [
        "test_str = \"hello world, during the national day holidays. Someone goes to Beijing, others go to Nanjing\"\n",
        "print(len(test_str))\n",
        "\n",
        "longest_word = 'Pneumonoultramicroscopicsilicovolcanoconiosis'\n",
        "print(len(longest_word))\n",
        "\n",
        "test_list = ['Beijing', 'Nanjing', 'Pneumonoultramicroscopicsilicovolcanoconiosis']\n",
        "print(len(test_list))\n",
        "\n"
      ],
      "metadata": {
        "colab": {
          "base_uri": "https://localhost:8080/"
        },
        "id": "pKdbJDFTqr_O",
        "outputId": "f3031185-9843-44aa-9aad-c7b1d2e66657"
      },
      "execution_count": 22,
      "outputs": [
        {
          "output_type": "stream",
          "name": "stdout",
          "text": [
            "92\n",
            "45\n",
            "3\n"
          ]
        }
      ]
    },
    {
      "cell_type": "markdown",
      "source": [
        "## List mutable"
      ],
      "metadata": {
        "id": "rAUYnxFm8N3N"
      }
    },
    {
      "cell_type": "code",
      "source": [
        "longest_word = 'Pneumonoultramicroscopicsilicovolcanoconiosis'\n",
        "print(longest_word)\n",
        "# longest_word[0] = 'X'\n",
        "# print(longest_word)\n",
        "\n",
        "test_list = ['Beijing', 'Nanjing', 'Pneumonoultramicroscopicsilicovolcanoconiosis']\n",
        "print(test_list)\n",
        "test_list[0] = 'Shenzhen'\n",
        "print(test_list)"
      ],
      "metadata": {
        "colab": {
          "base_uri": "https://localhost:8080/"
        },
        "id": "V8Noql-a7i9H",
        "outputId": "3d1cfbd0-9618-40d1-9b77-a989ee912c36"
      },
      "execution_count": 24,
      "outputs": [
        {
          "output_type": "stream",
          "name": "stdout",
          "text": [
            "Pneumonoultramicroscopicsilicovolcanoconiosis\n",
            "['Beijing', 'Nanjing', 'Pneumonoultramicroscopicsilicovolcanoconiosis']\n",
            "['Shenzhen', 'Nanjing', 'Pneumonoultramicroscopicsilicovolcanoconiosis']\n"
          ]
        }
      ]
    },
    {
      "cell_type": "markdown",
      "source": [
        "## List Range"
      ],
      "metadata": {
        "id": "VyoAEi9_9FH_"
      }
    },
    {
      "cell_type": "code",
      "source": [
        "\n",
        "l1_stus = range(85, 100)\n",
        "\n",
        "print(l1_stus[0])\n",
        "print(l1_stus[1])\n",
        "print(l1_stus[2])\n",
        "print(len(l1_stus))\n",
        "print(l1_stus[14]) # 14, 15, 16\n",
        "\n"
      ],
      "metadata": {
        "colab": {
          "base_uri": "https://localhost:8080/"
        },
        "id": "gHxEFGvv8hoZ",
        "outputId": "fded8083-53ae-4c97-b04f-67ad372ccd1f"
      },
      "execution_count": 30,
      "outputs": [
        {
          "output_type": "stream",
          "name": "stdout",
          "text": [
            "85\n",
            "86\n",
            "87\n",
            "15\n",
            "99\n"
          ]
        }
      ]
    },
    {
      "cell_type": "markdown",
      "source": [
        "## List iterating"
      ],
      "metadata": {
        "id": "iWUztukV-EBL"
      }
    },
    {
      "cell_type": "code",
      "source": [
        "\n",
        "classmates = ['Cai Xukun', 'Joe Biden', 'Donald Trump', 'Jay Chow']\n",
        "\n",
        "for name in classmates:\n",
        "  print(name)\n",
        "\n",
        "print(\"finished part 1\\n\\n\")\n",
        "\n",
        "for i in range(len(classmates)):\n",
        "  print(classmates[i])\n",
        "\n",
        "print(\"finished part 2\\n\\n\")\n",
        "\n",
        "for i, name in enumerate(classmates):\n",
        "  print(i, name)\n",
        "\n",
        "print(\"finished part 3\\n\\n\")\n"
      ],
      "metadata": {
        "colab": {
          "base_uri": "https://localhost:8080/"
        },
        "id": "zG4Zu_4R9Qdo",
        "outputId": "bdce1fa9-e43a-47cd-c271-ea95a867cb43"
      },
      "execution_count": 32,
      "outputs": [
        {
          "output_type": "stream",
          "name": "stdout",
          "text": [
            "Cai Xukun\n",
            "Joe Biden\n",
            "Donald Trump\n",
            "Jay Chow\n",
            "finished part 1\n",
            "\n",
            "\n",
            "Cai Xukun\n",
            "Joe Biden\n",
            "Donald Trump\n",
            "Jay Chow\n",
            "finished part 2\n",
            "\n",
            "\n",
            "0 Cai Xukun\n",
            "1 Joe Biden\n",
            "2 Donald Trump\n",
            "3 Jay Chow\n",
            "finished part 3\n",
            "\n",
            "\n"
          ]
        }
      ]
    },
    {
      "cell_type": "markdown",
      "source": [
        "## List Append & build-in function"
      ],
      "metadata": {
        "id": "JU5TVohgAPvx"
      }
    },
    {
      "cell_type": "code",
      "source": [
        "\n",
        "scores = list()\n",
        "print(scores)\n",
        "scores.append(1)\n",
        "print(scores)\n",
        "scores.append(95)\n",
        "print(scores)\n",
        "scores.append(96)\n",
        "print(scores)\n",
        "scores.append(60)\n",
        "print(scores)\n",
        "\n",
        "max_score = max(scores)\n",
        "min_score = min(scores)\n",
        "sum_score = sum(scores)\n",
        "count = len(scores)\n",
        "\n",
        "print(max_score)\n",
        "print(min_score)\n",
        "print(sum_score)\n",
        "print(count)\n",
        "print(sum_score/count)"
      ],
      "metadata": {
        "colab": {
          "base_uri": "https://localhost:8080/"
        },
        "id": "EPxx_FMK-ngf",
        "outputId": "2fd0a21e-2072-4a65-c975-2b42d3c1a3f8"
      },
      "execution_count": 36,
      "outputs": [
        {
          "output_type": "stream",
          "name": "stdout",
          "text": [
            "[]\n",
            "[1]\n",
            "[1, 95]\n",
            "[1, 95, 96]\n",
            "[1, 95, 96, 60]\n",
            "96\n",
            "1\n",
            "252\n",
            "4\n",
            "63.0\n"
          ]
        }
      ]
    },
    {
      "cell_type": "code",
      "source": [],
      "metadata": {
        "id": "EeFFSxDLAjm1"
      },
      "execution_count": null,
      "outputs": []
    }
  ]
}