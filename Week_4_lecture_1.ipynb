{
  "nbformat": 4,
  "nbformat_minor": 0,
  "metadata": {
    "colab": {
      "provenance": [],
      "authorship_tag": "ABX9TyPVefQvXKpX1Jtp2TDJnqAU",
      "include_colab_link": true
    },
    "kernelspec": {
      "name": "python3",
      "display_name": "Python 3"
    },
    "language_info": {
      "name": "python"
    }
  },
  "cells": [
    {
      "cell_type": "markdown",
      "metadata": {
        "id": "view-in-github",
        "colab_type": "text"
      },
      "source": [
        "<a href=\"https://colab.research.google.com/github/zhizhengwu/csc1001/blob/main/Week_4_lecture_1.ipynb\" target=\"_parent\"><img src=\"https://colab.research.google.com/assets/colab-badge.svg\" alt=\"Open In Colab\"/></a>"
      ]
    },
    {
      "cell_type": "markdown",
      "source": [
        "# Week 4 - Lecture 1"
      ],
      "metadata": {
        "id": "g913C08KpLgL"
      }
    },
    {
      "cell_type": "markdown",
      "source": [
        "## Find the largest number"
      ],
      "metadata": {
        "id": "tPEKjG3npPgu"
      }
    },
    {
      "cell_type": "code",
      "execution_count": 3,
      "metadata": {
        "colab": {
          "base_uri": "https://localhost:8080/"
        },
        "id": "HUUKNdw_pHnV",
        "outputId": "0e617c69-42f6-48b2-be65-a02e50ecddc7"
      },
      "outputs": [
        {
          "output_type": "stream",
          "name": "stdout",
          "text": [
            "90\n"
          ]
        }
      ],
      "source": [
        "my_list = [3, 5, 1, 9, 2, 20, 90, 10, 8]\n",
        "\n",
        "largest_number = my_list[0]  # 3\n",
        "\n",
        "for num in my_list:\n",
        "    if num > largest_number:\n",
        "        largest_number = num\n",
        "\n",
        "print(largest_number)\n"
      ]
    },
    {
      "cell_type": "code",
      "source": [
        "\n",
        "a = 10\n",
        "b = 10\n",
        "print(a is b)\n",
        "\n",
        "a = 10\n",
        "b = 1\n",
        "print(a is b)\n",
        "\n",
        "a = [1, 2, 3]\n",
        "b = [1, 2, 3]\n",
        "print(a)\n",
        "print(b)\n",
        "print(a[0] is b[0])"
      ],
      "metadata": {
        "colab": {
          "base_uri": "https://localhost:8080/"
        },
        "id": "Vf8Ys9ykpeql",
        "outputId": "5dccddb9-c31d-49c2-cf3c-b7db08357549"
      },
      "execution_count": 11,
      "outputs": [
        {
          "output_type": "stream",
          "name": "stdout",
          "text": [
            "True\n",
            "False\n",
            "[1, 2, 3]\n",
            "[1, 2, 3]\n",
            "True\n"
          ]
        }
      ]
    },
    {
      "cell_type": "markdown",
      "source": [
        "## Function"
      ],
      "metadata": {
        "id": "ayYyozi5x6wd"
      }
    },
    {
      "cell_type": "code",
      "source": [
        "# function to find the largest number from a list\n",
        "\n",
        "def find_largest_num(my_list):\n",
        "\n",
        "  largest_number = my_list[0]  # 3\n",
        "\n",
        "  for num in my_list:\n",
        "      if num > largest_number:\n",
        "          largest_number = num\n",
        "\n",
        "  print(largest_number)\n",
        "\n",
        "my_list = [3, 5, 1, 9, 2, 20, 90, 10, 8]\n",
        "find_largest_num(my_list)\n",
        "\n",
        "my_list = [-1, 10, 100, -2, 300]\n",
        "find_largest_num(my_list)\n"
      ],
      "metadata": {
        "colab": {
          "base_uri": "https://localhost:8080/",
          "height": 106
        },
        "id": "P0OtfQKpxDQF",
        "outputId": "146037d3-7ef6-4ed2-f268-74cedae6ef6d"
      },
      "execution_count": 18,
      "outputs": [
        {
          "output_type": "error",
          "ename": "SyntaxError",
          "evalue": "expected ':' (<ipython-input-18-107d1a8c8a95>, line 3)",
          "traceback": [
            "\u001b[0;36m  File \u001b[0;32m\"<ipython-input-18-107d1a8c8a95>\"\u001b[0;36m, line \u001b[0;32m3\u001b[0m\n\u001b[0;31m    def find_largest_num(my_list)\u001b[0m\n\u001b[0m                                 ^\u001b[0m\n\u001b[0;31mSyntaxError\u001b[0m\u001b[0;31m:\u001b[0m expected ':'\n"
          ]
        }
      ]
    },
    {
      "cell_type": "markdown",
      "source": [
        "## Function comparison with no function"
      ],
      "metadata": {
        "id": "mgYpZTuSyjbA"
      }
    },
    {
      "cell_type": "code",
      "source": [
        "my_list = [3, 5, 1, 9, 2, 20, 90, 10, 8]\n",
        "\n",
        "largest_number = my_list[0]  # 3\n",
        "\n",
        "for num in my_list:\n",
        "    if num > largest_number:\n",
        "        largest_number = num\n",
        "\n",
        "print(largest_number)\n",
        "\n",
        "\n",
        "my_list = [-1, 10, 100, -2, 300]\n",
        "largest_number = my_list[0]  # 3\n",
        "\n",
        "for num in my_list:\n",
        "    if num > largest_number:\n",
        "        largest_number = num\n",
        "\n",
        "print(largest_number)\n"
      ],
      "metadata": {
        "colab": {
          "base_uri": "https://localhost:8080/"
        },
        "id": "MPS3yWf9yUPM",
        "outputId": "4719fea5-4dc5-4b5c-db42-0fda23ce15b6"
      },
      "execution_count": 14,
      "outputs": [
        {
          "output_type": "stream",
          "name": "stdout",
          "text": [
            "90\n",
            "300\n"
          ]
        }
      ]
    },
    {
      "cell_type": "markdown",
      "source": [
        "## Function - Return"
      ],
      "metadata": {
        "id": "Lkx47KG_4Z-S"
      }
    },
    {
      "cell_type": "code",
      "source": [
        "# function to find the largest number from a list\n",
        "\n",
        "def find_largest_num(my_list):\n",
        "\n",
        "  largest_number = my_list[0]  # 3\n",
        "\n",
        "  for num in my_list:\n",
        "      if num > largest_number:\n",
        "          largest_number = num\n",
        "\n",
        "  return largest_number\n",
        "\n",
        "my_list = [3, 5, 1, 9, 2, 20, 90, 10, 8]\n",
        "largest_number = find_largest_num(my_list)\n",
        "print(\"Largest number:\", largest_number)\n",
        "\n",
        "my_list = [-1, 10, 100, -2, 300]\n",
        "largest_number = find_largest_num(my_list)\n",
        "print(\"Largest number:\", largest_number)\n"
      ],
      "metadata": {
        "colab": {
          "base_uri": "https://localhost:8080/"
        },
        "id": "vKcTHbzPyqFQ",
        "outputId": "8ce405c8-a489-496b-8a90-5c3fa8936458"
      },
      "execution_count": 20,
      "outputs": [
        {
          "output_type": "stream",
          "name": "stdout",
          "text": [
            "Largest number: 90\n",
            "Largest number: 300\n"
          ]
        }
      ]
    },
    {
      "cell_type": "markdown",
      "source": [
        "## Function - Multiple parameters"
      ],
      "metadata": {
        "id": "bSaQC2TB5TyV"
      }
    },
    {
      "cell_type": "code",
      "source": [
        "\n",
        "def call_sum (a, b):\n",
        "\n",
        "  x = a * (b + 1)\n",
        "\n",
        "  return x\n",
        "\n",
        "a = 1\n",
        "b = 2\n",
        "# print(call_sum(a, b))\n",
        "\n",
        "# print(call_sum(b, a))\n",
        "\n",
        "print(call_sum(a=a, b=b)) # 3\n",
        "print(call_sum(a=b, b=a)) # 4\n",
        "print(call_sum(b=b, a=a)) # 4\n"
      ],
      "metadata": {
        "colab": {
          "base_uri": "https://localhost:8080/"
        },
        "id": "5AMJTHdW4lXU",
        "outputId": "23cfe91d-8a7e-47f8-8e39-a1815397e783"
      },
      "execution_count": 25,
      "outputs": [
        {
          "output_type": "stream",
          "name": "stdout",
          "text": [
            "3\n",
            "4\n",
            "3\n"
          ]
        }
      ]
    },
    {
      "cell_type": "code",
      "source": [],
      "metadata": {
        "id": "d8Birusb5yqi"
      },
      "execution_count": null,
      "outputs": []
    }
  ]
}